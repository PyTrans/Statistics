{
 "cells": [
  {
   "cell_type": "markdown",
   "metadata": {},
   "source": [
    "# Count Data Analysis - Poisson Regression"
   ]
  },
  {
   "cell_type": "markdown",
   "metadata": {},
   "source": [
    "## Introduction"
   ]
  },
  {
   "cell_type": "markdown",
   "metadata": {},
   "source": []
  },
  {
   "cell_type": "markdown",
   "metadata": {},
   "source": [
    "## Dependencies"
   ]
  },
  {
   "cell_type": "code",
   "execution_count": 53,
   "metadata": {},
   "outputs": [],
   "source": [
    "import pandas as pd\n",
    "from scipy import stats  \n",
    "import matplotlib.pylab as plt\n",
    "\n",
    "import autograd as ag\n",
    "import autograd.numpy as np\n",
    "import autograd.scipy as sp\n",
    "import functools\n",
    "import scipy.optimize\n",
    "import patsy\n",
    "import math\n",
    "import scipy\n",
    "\n",
    "import warnings\n",
    "warnings.filterwarnings('ignore')"
   ]
  },
  {
   "cell_type": "markdown",
   "metadata": {},
   "source": [
    "## Functions"
   ]
  },
  {
   "cell_type": "code",
   "execution_count": 54,
   "metadata": {},
   "outputs": [],
   "source": [
    "def get_aic(y, X, theta):\n",
    "    return 2*len(theta) + 2*get_poisson_neg_ll(y, X, theta)"
   ]
  },
  {
   "cell_type": "code",
   "execution_count": 55,
   "metadata": {},
   "outputs": [],
   "source": [
    "def get_poisson_neg_ll(y, X, theta):\n",
    "    beta = theta\n",
    "    mu = np.exp(np.dot(X, beta))\n",
    "    \n",
    "    ll = np.sum( y*np.log(mu) - mu - np.log(scipy.special.factorial(y)))\n",
    "    \n",
    "    neg_ll = -ll\n",
    "    return neg_ll"
   ]
  },
  {
   "cell_type": "markdown",
   "metadata": {},
   "source": [
    "### Open Dataset"
   ]
  },
  {
   "cell_type": "code",
   "execution_count": 56,
   "metadata": {},
   "outputs": [],
   "source": [
    "data_path = 'https://raw.githubusercontent.com/PyTrans/Statistics/master/CountData_HOV_Accidents_SoCal.csv'\n",
    "hov_acci_socal = pd.read_csv(data_path)"
   ]
  },
  {
   "cell_type": "markdown",
   "metadata": {},
   "source": [
    "### Create a Model"
   ]
  },
  {
   "cell_type": "code",
   "execution_count": 57,
   "metadata": {},
   "outputs": [],
   "source": [
    "model = 'Accidents~Lanes+Limited+AccessNum+RoadWidth+LaneWidth+InnerShoulderWidth+OuterShoulderWidth'\n",
    "\n",
    "y_patsy, X_patsy = patsy.dmatrices(model, hov_acci_socal)\n",
    "y = np.array(y_patsy).flatten()\n",
    "X = np.array(X_patsy)"
   ]
  },
  {
   "cell_type": "markdown",
   "metadata": {},
   "source": [
    "### Estimation"
   ]
  },
  {
   "cell_type": "markdown",
   "metadata": {},
   "source": [
    "#### Log-likelihood Function"
   ]
  },
  {
   "cell_type": "code",
   "execution_count": 58,
   "metadata": {},
   "outputs": [],
   "source": [
    "# init the search for max likelihood parameters\n",
    "varLength = len(model.split(sep='+'))\n",
    "\n",
    "# assume t == 1\n",
    "init_theta = np.array([np.log(np.mean(y))]+[0]*(varLength), dtype=float)\n",
    "    \n",
    "neg_ll = functools.partial(get_poisson_neg_ll, y, X)\n",
    "jacobian = ag.jacobian(neg_ll)\n",
    "hessian = ag.hessian(neg_ll)"
   ]
  },
  {
   "cell_type": "markdown",
   "metadata": {},
   "source": [
    "#### Optimization"
   ]
  },
  {
   "cell_type": "code",
   "execution_count": 59,
   "metadata": {},
   "outputs": [
    {
     "name": "stdout",
     "output_type": "stream",
     "text": [
      "Optimization terminated successfully.\n",
      "         Current function value: 29355.506033\n",
      "         Iterations: 24\n",
      "         Function evaluations: 41\n",
      "         Gradient evaluations: 64\n",
      "         Hessian evaluations: 24\n"
     ]
    }
   ],
   "source": [
    "coefficients = scipy.optimize.fmin_ncg(\n",
    "        neg_ll,\n",
    "        init_theta,\n",
    "        fprime= jacobian,\n",
    "        fhess= hessian,\n",
    "        avextol=1e-8\n",
    "        )"
   ]
  },
  {
   "cell_type": "markdown",
   "metadata": {},
   "source": [
    "### Result"
   ]
  },
  {
   "cell_type": "code",
   "execution_count": 60,
   "metadata": {},
   "outputs": [
    {
     "name": "stdout",
     "output_type": "stream",
     "text": [
      "['(Intercept)', 'Lanes', 'Limited', 'AccessNum', 'RoadWidth', 'LaneWidth', 'InnerShoulderWidth', 'OuterShoulderWidth']\n"
     ]
    }
   ],
   "source": [
    "res_var_list = model.split(sep='~')[1].split(sep='+')\n",
    "res_var_list.insert(0, '(Intercept)')\n",
    "print(res_var_list)"
   ]
  },
  {
   "cell_type": "markdown",
   "metadata": {},
   "source": [
    "#### Coefficients"
   ]
  },
  {
   "cell_type": "code",
   "execution_count": 61,
   "metadata": {},
   "outputs": [
    {
     "data": {
      "text/plain": [
       "array([ 3.09564987,  0.20361721,  0.16058925,  0.14483635,  0.00403671,\n",
       "       -0.11552242, -0.02981278,  0.02585838])"
      ]
     },
     "execution_count": 61,
     "metadata": {},
     "output_type": "execute_result"
    }
   ],
   "source": [
    "coefficients"
   ]
  },
  {
   "cell_type": "markdown",
   "metadata": {},
   "source": [
    "#### The standard error of each parameter\n",
    "Each of the model parameters has its own standard error, which is the estimated standard deviation of the error in estimating it. Note that asymptotic standard errors for the βs can be estimated by inverting the expected Hessian matrix (http://home.cc.umanitoba.ca/~godwinrt/7010/poissonregression.pdf)."
   ]
  },
  {
   "cell_type": "code",
   "execution_count": 62,
   "metadata": {},
   "outputs": [
    {
     "name": "stdout",
     "output_type": "stream",
     "text": [
      "[0.10140769 0.02355695 0.01197166 0.00774832 0.00042171 0.00821016\n",
      " 0.00167327 0.00286008]\n"
     ]
    }
   ],
   "source": [
    "stdErr = np.diag(np.sqrt(np.linalg.inv(hessian(coefficients))))\n",
    "print(stdErr)"
   ]
  },
  {
   "cell_type": "markdown",
   "metadata": {},
   "source": [
    "#### The z value"
   ]
  },
  {
   "cell_type": "code",
   "execution_count": 63,
   "metadata": {},
   "outputs": [
    {
     "name": "stdout",
     "output_type": "stream",
     "text": [
      "[ 30.52677579   8.64361615  13.4141158   18.69260141   9.5723434\n",
      " -14.07066419 -17.81707947   9.04114825]\n"
     ]
    }
   ],
   "source": [
    "z_value = coefficients/stdErr\n",
    "print(z_value)"
   ]
  },
  {
   "cell_type": "markdown",
   "metadata": {},
   "source": [
    "#### Pr(>|z|)"
   ]
  },
  {
   "cell_type": "code",
   "execution_count": 64,
   "metadata": {},
   "outputs": [
    {
     "name": "stdout",
     "output_type": "stream",
     "text": [
      "[0. 0. 0. 0. 0. 0. 0. 0.]\n"
     ]
    }
   ],
   "source": [
    "p_value = np.round(stats.norm.sf(abs(z_value)) * 2, 4)\n",
    "print(p_value)"
   ]
  },
  {
   "cell_type": "markdown",
   "metadata": {},
   "source": [
    "#### The estimated y value\n",
    "\n",
    "$\\hat{Y}= exp(X\\beta)$"
   ]
  },
  {
   "cell_type": "code",
   "execution_count": 65,
   "metadata": {},
   "outputs": [
    {
     "data": {
      "text/plain": [
       "array([12.54281975, 15.4050247 , 15.64961999, ..., 15.53502949,\n",
       "       14.45762775, 13.14292092])"
      ]
     },
     "execution_count": 65,
     "metadata": {},
     "output_type": "execute_result"
    }
   ],
   "source": [
    "y_hat = np.exp(np.dot(X, coefficients))\n",
    "y_hat"
   ]
  },
  {
   "cell_type": "markdown",
   "metadata": {},
   "source": [
    "#### Deviance"
   ]
  },
  {
   "cell_type": "code",
   "execution_count": 66,
   "metadata": {},
   "outputs": [],
   "source": [
    "# ll(regression)\n",
    "ll_reg = - neg_ll(coefficients)"
   ]
  },
  {
   "cell_type": "code",
   "execution_count": 67,
   "metadata": {},
   "outputs": [],
   "source": [
    "# ll(null)\n",
    "model_null = 'Accidents~1'\n",
    "y_patsy, X_patsy = patsy.dmatrices(model_null, hov_acci_socal)\n",
    "y_null = np.array(y_patsy).flatten()\n",
    "X_null = np.array(X_patsy)"
   ]
  },
  {
   "cell_type": "code",
   "execution_count": 68,
   "metadata": {},
   "outputs": [],
   "source": [
    "init_theta = [0]\n",
    "neg_ll = functools.partial(get_poisson_neg_ll, y_null, X_null)\n",
    "jacobian = ag.jacobian(neg_ll)\n",
    "hessian = ag.hessian(neg_ll)"
   ]
  },
  {
   "cell_type": "code",
   "execution_count": 69,
   "metadata": {},
   "outputs": [
    {
     "name": "stdout",
     "output_type": "stream",
     "text": [
      "Optimization terminated successfully.\n",
      "         Current function value: 30344.007608\n",
      "         Iterations: 6\n",
      "         Function evaluations: 10\n",
      "         Gradient evaluations: 15\n",
      "         Hessian evaluations: 6\n"
     ]
    }
   ],
   "source": [
    "intercept = scipy.optimize.fmin_ncg(\n",
    "        neg_ll,\n",
    "        init_theta,\n",
    "        fprime= jacobian,\n",
    "        fhess= hessian,\n",
    "        avextol=1e-8\n",
    "        )"
   ]
  },
  {
   "cell_type": "code",
   "execution_count": 70,
   "metadata": {},
   "outputs": [],
   "source": [
    "ll_null = - neg_ll(intercept)"
   ]
  },
  {
   "cell_type": "code",
   "execution_count": 71,
   "metadata": {},
   "outputs": [
    {
     "name": "stdout",
     "output_type": "stream",
     "text": [
      "-3683.997935533842\n"
     ]
    }
   ],
   "source": [
    "## ll(saturated)\n",
    "ll_sat_arr = y * np.log(y) - y - np.log(scipy.special.factorial(y))\n",
    "ll_sat_list = []\n",
    "for ls in ll_sat_arr:\n",
    "    if np.isnan(ls):\n",
    "        ll_sat_list.append(0)\n",
    "    else:\n",
    "        ll_sat_list.append(ls)\n",
    "ll_sat = np.sum(ll_sat_list)\n",
    "print(ll_sat)"
   ]
  },
  {
   "cell_type": "markdown",
   "metadata": {},
   "source": [
    "https://stats.stackexchange.com/questions/316763/log-likelihood-function-in-poisson-regression\n",
    "\n",
    "https://stats.stackexchange.com/questions/108995/interpreting-residual-and-null-deviance-in-glm-r"
   ]
  },
  {
   "cell_type": "code",
   "execution_count": 72,
   "metadata": {},
   "outputs": [
    {
     "name": "stdout",
     "output_type": "stream",
     "text": [
      "Null deviance: 53320.019345869456\n",
      "Residual deviance: 51343.0161953768\n"
     ]
    }
   ],
   "source": [
    "print('Null deviance: {}'.format(-2 * (ll_null - np.sum(ll_sat))))\n",
    "print('Residual deviance: {}'.format(-2 * (ll_reg - np.sum(ll_sat))))"
   ]
  },
  {
   "cell_type": "markdown",
   "metadata": {},
   "source": [
    "#### Deviance residuals\n",
    "\n",
    "residuals.glm in r\n",
    "\n",
    "$$d_i = sgn\\left(y_i - exp(X_i \\hat{\\beta})\\right) \\sqrt{2\\left\\{y_i log\\left(\\frac{y_i}{exp(X_i \\hat{\\beta})}\\right)-\\left(y_i - exp(X_i \\hat{\\beta})\\right)\\right\\}}$$"
   ]
  },
  {
   "cell_type": "code",
   "execution_count": 73,
   "metadata": {},
   "outputs": [
    {
     "name": "stdout",
     "output_type": "stream",
     "text": [
      "21.476548143188744\n",
      "-6.890510914896928\n"
     ]
    }
   ],
   "source": [
    "y_hat = np.exp(np.dot(X, coefficients))\n",
    "\n",
    "residuals = y - y_hat\n",
    "\n",
    "rtTerm = []\n",
    "for i in range(len(y)):\n",
    "    rtTerm1 = y[i] * np.log(y[i] / y_hat[i])\n",
    "    rtTerm2 = y[i] - y_hat[i]\n",
    "    \n",
    "    if np.isnan(rtTerm1):\n",
    "        rtTerm.append(2*(0 - rtTerm2))\n",
    "    else:\n",
    "        rtTerm.append(2*(rtTerm1 - rtTerm2))\n",
    "rtTerm  = np.array(rtTerm)\n",
    "\n",
    "d = np.sign(residuals) * np.sqrt(rtTerm)\n",
    "print(d.max())\n",
    "print(d.min())"
   ]
  },
  {
   "cell_type": "markdown",
   "metadata": {},
   "source": [
    "#### AICc"
   ]
  },
  {
   "cell_type": "code",
   "execution_count": 74,
   "metadata": {},
   "outputs": [
    {
     "data": {
      "text/plain": [
       "58727.01206644448"
      ]
     },
     "execution_count": 74,
     "metadata": {},
     "output_type": "execute_result"
    }
   ],
   "source": [
    "get_aic(y, X, coefficients)"
   ]
  }
 ],
 "metadata": {
  "kernelspec": {
   "display_name": "Python 3",
   "language": "python",
   "name": "python3"
  },
  "language_info": {
   "codemirror_mode": {
    "name": "ipython",
    "version": 3
   },
   "file_extension": ".py",
   "mimetype": "text/x-python",
   "name": "python",
   "nbconvert_exporter": "python",
   "pygments_lexer": "ipython3",
   "version": "3.6.4"
  }
 },
 "nbformat": 4,
 "nbformat_minor": 2
}
